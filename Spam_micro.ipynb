{
 "cells": [
  {
   "cell_type": "markdown",
   "id": "fd3ccabb",
   "metadata": {},
   "source": [
    "# Spam Text Classification\n",
    "***Implemented By Naive Bias Bernaulli model***"
   ]
  },
  {
   "cell_type": "code",
   "execution_count": 291,
   "id": "6478f4af",
   "metadata": {},
   "outputs": [],
   "source": [
    "import pandas as pd\n",
    "import string"
   ]
  },
  {
   "cell_type": "markdown",
   "id": "d9c95e0d",
   "metadata": {},
   "source": [
    "## Data Import And Cleaning"
   ]
  },
  {
   "cell_type": "code",
   "execution_count": 194,
   "id": "6695b218",
   "metadata": {},
   "outputs": [],
   "source": [
    "df = pd.read_csv('spam.csv')\n",
    "df_copy = df.copy()"
   ]
  },
  {
   "cell_type": "code",
   "execution_count": 195,
   "id": "965a291a",
   "metadata": {},
   "outputs": [
    {
     "name": "stdout",
     "output_type": "stream",
     "text": [
      "<class 'pandas.core.frame.DataFrame'>\n",
      "RangeIndex: 5572 entries, 0 to 5571\n",
      "Data columns (total 5 columns):\n",
      " #   Column      Non-Null Count  Dtype \n",
      "---  ------      --------------  ----- \n",
      " 0   v1          5572 non-null   object\n",
      " 1   v2          5572 non-null   object\n",
      " 2   Unnamed: 2  50 non-null     object\n",
      " 3   Unnamed: 3  12 non-null     object\n",
      " 4   Unnamed: 4  6 non-null      object\n",
      "dtypes: object(5)\n",
      "memory usage: 217.8+ KB\n"
     ]
    }
   ],
   "source": [
    "df.info()"
   ]
  },
  {
   "cell_type": "code",
   "execution_count": 196,
   "id": "8d926c6e",
   "metadata": {},
   "outputs": [],
   "source": [
    "df['Unnamed: 2'] = df['Unnamed: 2'].astype(str)\n",
    "df['Unnamed: 3'] = df['Unnamed: 3'].astype(str)\n",
    "df['Unnamed: 4'] = df['Unnamed: 4'].astype(str)"
   ]
  },
  {
   "cell_type": "code",
   "execution_count": 197,
   "id": "5461a29d",
   "metadata": {},
   "outputs": [],
   "source": [
    "df['v2'] = df['v2'].str.lower()\n",
    "df['Unnamed: 2'] = df['Unnamed: 2'].str.lower()\n",
    "df['Unnamed: 3'] = df['Unnamed: 3'].str.lower()\n",
    "df['Unnamed: 4'] = df['Unnamed: 4'].str.lower()"
   ]
  },
  {
   "cell_type": "code",
   "execution_count": 198,
   "id": "f5fefbf4",
   "metadata": {},
   "outputs": [],
   "source": [
    "df['Unnamed: 4'] = df['Unnamed: 4'].str.replace('nan', ' ')"
   ]
  },
  {
   "cell_type": "code",
   "execution_count": 199,
   "id": "2a62b528",
   "metadata": {},
   "outputs": [],
   "source": [
    "punc = list(string.punctuation)\n",
    "for i in punc:\n",
    "    df['v2'] = df['v2'].str.replace(i, ' ', regex=False)\n",
    "    df['Unnamed: 2'] = df['Unnamed: 2'].str.replace(i, ' ', regex=False)\n",
    "    df['Unnamed: 3'] = df['Unnamed: 3'].str.replace(i, ' ', regex=False)\n",
    "    df['Unnamed: 4'] = df['Unnamed: 4'].str.replace(i, ' ', regex=False)"
   ]
  },
  {
   "cell_type": "markdown",
   "id": "de0bfa79",
   "metadata": {},
   "source": [
    "## Partitioning Data"
   ]
  },
  {
   "cell_type": "code",
   "execution_count": 200,
   "id": "fa2073ac",
   "metadata": {},
   "outputs": [],
   "source": [
    "spam = df[df['v1'] != 'ham']"
   ]
  },
  {
   "cell_type": "code",
   "execution_count": 201,
   "id": "c26359e8",
   "metadata": {},
   "outputs": [],
   "source": [
    "non_spam = df[df['v1'] != 'spam']"
   ]
  },
  {
   "cell_type": "code",
   "execution_count": 202,
   "id": "a62f7a86",
   "metadata": {
    "scrolled": true
   },
   "outputs": [],
   "source": [
    "non_spam = non_spam.reset_index(drop=True)"
   ]
  },
  {
   "cell_type": "code",
   "execution_count": 203,
   "id": "bd4ce38f",
   "metadata": {},
   "outputs": [],
   "source": [
    "spam = spam.reset_index(drop=True)"
   ]
  },
  {
   "cell_type": "code",
   "execution_count": 266,
   "id": "0ddd1747",
   "metadata": {},
   "outputs": [
    {
     "data": {
      "text/html": [
       "<div>\n",
       "<style scoped>\n",
       "    .dataframe tbody tr th:only-of-type {\n",
       "        vertical-align: middle;\n",
       "    }\n",
       "\n",
       "    .dataframe tbody tr th {\n",
       "        vertical-align: top;\n",
       "    }\n",
       "\n",
       "    .dataframe thead th {\n",
       "        text-align: right;\n",
       "    }\n",
       "</style>\n",
       "<table border=\"1\" class=\"dataframe\">\n",
       "  <thead>\n",
       "    <tr style=\"text-align: right;\">\n",
       "      <th></th>\n",
       "      <th>v1</th>\n",
       "      <th>v2</th>\n",
       "      <th>Unnamed: 2</th>\n",
       "      <th>Unnamed: 3</th>\n",
       "      <th>Unnamed: 4</th>\n",
       "    </tr>\n",
       "  </thead>\n",
       "  <tbody>\n",
       "    <tr>\n",
       "      <th>0</th>\n",
       "      <td>spam</td>\n",
       "      <td>free entry in 2 a wkly comp to win fa cup fina...</td>\n",
       "      <td>nan</td>\n",
       "      <td>nan</td>\n",
       "      <td></td>\n",
       "    </tr>\n",
       "    <tr>\n",
       "      <th>1</th>\n",
       "      <td>spam</td>\n",
       "      <td>freemsg hey there darling it s been 3 week s n...</td>\n",
       "      <td>nan</td>\n",
       "      <td>nan</td>\n",
       "      <td></td>\n",
       "    </tr>\n",
       "    <tr>\n",
       "      <th>2</th>\n",
       "      <td>spam</td>\n",
       "      <td>winner   as a valued network customer you have...</td>\n",
       "      <td>nan</td>\n",
       "      <td>nan</td>\n",
       "      <td></td>\n",
       "    </tr>\n",
       "    <tr>\n",
       "      <th>3</th>\n",
       "      <td>spam</td>\n",
       "      <td>had your mobile 11 months or more  u r entitle...</td>\n",
       "      <td>nan</td>\n",
       "      <td>nan</td>\n",
       "      <td></td>\n",
       "    </tr>\n",
       "    <tr>\n",
       "      <th>4</th>\n",
       "      <td>spam</td>\n",
       "      <td>six chances to win cash  from 100 to 20 000 po...</td>\n",
       "      <td>nan</td>\n",
       "      <td>nan</td>\n",
       "      <td></td>\n",
       "    </tr>\n",
       "    <tr>\n",
       "      <th>...</th>\n",
       "      <td>...</td>\n",
       "      <td>...</td>\n",
       "      <td>...</td>\n",
       "      <td>...</td>\n",
       "      <td>...</td>\n",
       "    </tr>\n",
       "    <tr>\n",
       "      <th>742</th>\n",
       "      <td>spam</td>\n",
       "      <td>want explicit sex in 30 secs  ring 02073162414...</td>\n",
       "      <td>nan</td>\n",
       "      <td>nan</td>\n",
       "      <td></td>\n",
       "    </tr>\n",
       "    <tr>\n",
       "      <th>743</th>\n",
       "      <td>spam</td>\n",
       "      <td>asked 3mobile if 0870 chatlines inclu in free ...</td>\n",
       "      <td>nan</td>\n",
       "      <td>nan</td>\n",
       "      <td></td>\n",
       "    </tr>\n",
       "    <tr>\n",
       "      <th>744</th>\n",
       "      <td>spam</td>\n",
       "      <td>had your contract mobile 11 mnths  latest moto...</td>\n",
       "      <td>nan</td>\n",
       "      <td>nan</td>\n",
       "      <td></td>\n",
       "    </tr>\n",
       "    <tr>\n",
       "      <th>745</th>\n",
       "      <td>spam</td>\n",
       "      <td>reminder from o2  to get 2 50 pounds free call...</td>\n",
       "      <td>nan</td>\n",
       "      <td>nan</td>\n",
       "      <td></td>\n",
       "    </tr>\n",
       "    <tr>\n",
       "      <th>746</th>\n",
       "      <td>spam</td>\n",
       "      <td>this is the 2nd time we have tried 2 contact u...</td>\n",
       "      <td>nan</td>\n",
       "      <td>nan</td>\n",
       "      <td></td>\n",
       "    </tr>\n",
       "  </tbody>\n",
       "</table>\n",
       "<p>747 rows × 5 columns</p>\n",
       "</div>"
      ],
      "text/plain": [
       "       v1                                                 v2 Unnamed: 2  \\\n",
       "0    spam  free entry in 2 a wkly comp to win fa cup fina...        nan   \n",
       "1    spam  freemsg hey there darling it s been 3 week s n...        nan   \n",
       "2    spam  winner   as a valued network customer you have...        nan   \n",
       "3    spam  had your mobile 11 months or more  u r entitle...        nan   \n",
       "4    spam  six chances to win cash  from 100 to 20 000 po...        nan   \n",
       "..    ...                                                ...        ...   \n",
       "742  spam  want explicit sex in 30 secs  ring 02073162414...        nan   \n",
       "743  spam  asked 3mobile if 0870 chatlines inclu in free ...        nan   \n",
       "744  spam  had your contract mobile 11 mnths  latest moto...        nan   \n",
       "745  spam  reminder from o2  to get 2 50 pounds free call...        nan   \n",
       "746  spam  this is the 2nd time we have tried 2 contact u...        nan   \n",
       "\n",
       "    Unnamed: 3 Unnamed: 4  \n",
       "0          nan             \n",
       "1          nan             \n",
       "2          nan             \n",
       "3          nan             \n",
       "4          nan             \n",
       "..         ...        ...  \n",
       "742        nan             \n",
       "743        nan             \n",
       "744        nan             \n",
       "745        nan             \n",
       "746        nan             \n",
       "\n",
       "[747 rows x 5 columns]"
      ]
     },
     "execution_count": 266,
     "metadata": {},
     "output_type": "execute_result"
    }
   ],
   "source": [
    "spam"
   ]
  },
  {
   "cell_type": "markdown",
   "id": "5f174e91",
   "metadata": {},
   "source": [
    "# Model Building"
   ]
  },
  {
   "cell_type": "code",
   "execution_count": 204,
   "id": "be281548",
   "metadata": {},
   "outputs": [],
   "source": [
    "spam_distribution = {}"
   ]
  },
  {
   "cell_type": "code",
   "execution_count": 205,
   "id": "5503ade4",
   "metadata": {},
   "outputs": [],
   "source": [
    "for messages in spam['v2'].values:\n",
    "    words = set(messages.split())\n",
    "    for word in words:\n",
    "        if word in spam_distribution:\n",
    "            spam_distribution[word] += 1\n",
    "        else:\n",
    "            spam_distribution[word] = 1"
   ]
  },
  {
   "cell_type": "code",
   "execution_count": null,
   "id": "3fa52044",
   "metadata": {},
   "outputs": [],
   "source": []
  },
  {
   "cell_type": "code",
   "execution_count": 207,
   "id": "5a34359d",
   "metadata": {},
   "outputs": [],
   "source": [
    "non_spam_distribution = {}"
   ]
  },
  {
   "cell_type": "code",
   "execution_count": 208,
   "id": "9f783175",
   "metadata": {},
   "outputs": [],
   "source": [
    "for k in ['v2', 'Unnamed: 2', 'Unnamed: 3', 'Unnamed: 4']:\n",
    "    for messages in non_spam[k].values:\n",
    "        words = set(messages.split())\n",
    "        for word in words:\n",
    "            if word in non_spam_distribution:\n",
    "                non_spam_distribution[word] += 1\n",
    "            else:\n",
    "                non_spam_distribution[word] = 1"
   ]
  },
  {
   "cell_type": "code",
   "execution_count": 209,
   "id": "efe40088",
   "metadata": {},
   "outputs": [],
   "source": [
    "n_spam = spam.shape[0]"
   ]
  },
  {
   "cell_type": "code",
   "execution_count": 210,
   "id": "2890524a",
   "metadata": {},
   "outputs": [],
   "source": [
    "n_non_spam = non_spam.shape[0]"
   ]
  },
  {
   "cell_type": "code",
   "execution_count": 211,
   "id": "8961261d",
   "metadata": {},
   "outputs": [],
   "source": [
    "phi = (n_spam)/(n_spam+n_non_spam)"
   ]
  },
  {
   "cell_type": "code",
   "execution_count": 260,
   "id": "ed4c9741",
   "metadata": {},
   "outputs": [],
   "source": [
    "total_distribution = {}\n",
    "for k in ['v2', 'Unnamed: 2', 'Unnamed: 3', 'Unnamed: 4']:\n",
    "    for messages in df[k].values:\n",
    "        words = set(messages.split())\n",
    "        for word in words:\n",
    "            if word in total_distribution:\n",
    "                total_distribution[word] += 1\n",
    "            else:\n",
    "                total_distribution[word] = 1"
   ]
  },
  {
   "cell_type": "markdown",
   "id": "1faa4da1",
   "metadata": {},
   "source": [
    "# Predicting\n",
    "*With use of Baye's Rule*"
   ]
  },
  {
   "cell_type": "code",
   "execution_count": 286,
   "id": "c69e667a",
   "metadata": {},
   "outputs": [],
   "source": [
    "def prob_spam(message:str):\n",
    "    message.lower()\n",
    "    global n_spam\n",
    "    global n_non_spam\n",
    "    global spam_distribution\n",
    "    global total_distribution\n",
    "    words = message.split()\n",
    "    prob = 1.0\n",
    "    for word in words:\n",
    "        if word in spam_distribution:\n",
    "            marg = (spam_distribution[word] + 1)/(total_distribution[word] + 2)\n",
    "        elif word in total_distribution:\n",
    "            marg= 1/(total_distribution[word] + 2)\n",
    "        else:\n",
    "            marg= 0.5\n",
    "        prob *= marg\n",
    "    return prob"
   ]
  },
  {
   "cell_type": "code",
   "execution_count": 287,
   "id": "5c17ed83",
   "metadata": {},
   "outputs": [],
   "source": [
    "def prob_non__spam(message:str):\n",
    "    message.lower()\n",
    "    global n_spam\n",
    "    global n_non_spam\n",
    "    global non_spam_distribution\n",
    "    global total_distribution\n",
    "    words = message.split()\n",
    "    prob = 1.0\n",
    "    for word in words:\n",
    "        if word in non_spam_distribution:\n",
    "            marg= (non_spam_distribution[word] + 1)/(total_distribution[word] + 2)\n",
    "        elif word in total_distribution:\n",
    "            marg= 1/(total_distribution[word] + 2)\n",
    "        else:\n",
    "            marg= 0.5\n",
    "        prob *= marg\n",
    "    return prob"
   ]
  },
  {
   "cell_type": "markdown",
   "id": "8d25674c",
   "metadata": {},
   "source": []
  },
  {
   "cell_type": "code",
   "execution_count": 288,
   "id": "9e283b7a",
   "metadata": {},
   "outputs": [],
   "source": [
    "def is_spam(message:str):\n",
    "    if prob_spam(message) > prob_non__spam(message):\n",
    "        return True\n",
    "    return False"
   ]
  },
  {
   "cell_type": "code",
   "execution_count": 289,
   "id": "1885f03d",
   "metadata": {},
   "outputs": [
    {
     "data": {
      "text/plain": [
       "False"
      ]
     },
     "execution_count": 289,
     "metadata": {},
     "output_type": "execute_result"
    }
   ],
   "source": [
    "is_spam('hey its me anju')"
   ]
  },
  {
   "cell_type": "code",
   "execution_count": null,
   "id": "6f05a782",
   "metadata": {},
   "outputs": [],
   "source": []
  },
  {
   "cell_type": "code",
   "execution_count": null,
   "id": "3062bd73",
   "metadata": {},
   "outputs": [],
   "source": []
  }
 ],
 "metadata": {
  "kernelspec": {
   "display_name": "Python 3",
   "language": "python",
   "name": "python3"
  },
  "language_info": {
   "codemirror_mode": {
    "name": "ipython",
    "version": 3
   },
   "file_extension": ".py",
   "mimetype": "text/x-python",
   "name": "python",
   "nbconvert_exporter": "python",
   "pygments_lexer": "ipython3",
   "version": "3.8.8"
  }
 },
 "nbformat": 4,
 "nbformat_minor": 5
}
